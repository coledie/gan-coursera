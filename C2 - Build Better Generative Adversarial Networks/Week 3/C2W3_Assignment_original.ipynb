{
 "cells": [
  {
   "cell_type": "markdown",
   "metadata": {
    "colab_type": "text",
    "id": "kz7GMf9fruXG"
   },
   "source": [
    "# Components of StyleGAN\n",
    "\n",
    "### Goals\n",
    "In this notebook, you're going to implement various components of StyleGAN, including the truncation trick, the mapping layer, noise injection, adaptive instance normalization (AdaIN), and progressive growing. \n",
    "\n",
    "### Learning Objectives\n",
    "\n",
    "1.   Understand the components of StyleGAN that differ from the traditional GAN.\n",
    "2.   Implement the components of StyleGAN.\n",
    "\n",
    "\n"
   ]
  },
  {
   "cell_type": "markdown",
   "metadata": {
    "colab_type": "text",
    "id": "oI3mxAyzsexw"
   },
   "source": [
    "## Getting Started\n",
    "You will begin by importing some packages from PyTorch and defining a visualization function which will be useful later."
   ]
  },
  {
   "cell_type": "code",
   "execution_count": 1,
   "metadata": {
    "colab": {},
    "colab_type": "code",
    "id": "L1vT-DFVn252"
   },
   "outputs": [],
   "source": [
    "import torch\n",
    "import torch.nn as nn\n",
    "import torch.nn.functional as F\n",
    "\n",
    "def show_tensor_images(image_tensor, num_images=16, size=(3, 64, 64), nrow=3):\n",
    "    '''\n",
    "    Function for visualizing images: Given a tensor of images, number of images,\n",
    "    size per image, and images per row, plots and prints the images in an uniform grid.\n",
    "    '''\n",
    "    image_tensor = (image_tensor + 1) / 2\n",
    "    image_unflat = image_tensor.detach().cpu().clamp_(0, 1)\n",
    "    image_grid = make_grid(image_unflat[:num_images], nrow=nrow, padding=0)\n",
    "    plt.imshow(image_grid.permute(1, 2, 0).squeeze())\n",
    "    plt.axis('off')\n",
    "    plt.show()"
   ]
  },
  {
   "cell_type": "markdown",
   "metadata": {
    "colab_type": "text",
    "id": "k7VE8l7dyo0A"
   },
   "source": [
    "## Truncation Trick\n",
    "The first component you will implement is the truncation trick. Remember that this is done after the model is trained and when you are sampling beautiful outputs. The truncation trick resamples the noise vector $z$ from a truncated normal distribution which allows you to tune the generator's fidelity/diversity. The truncation value is at least 0, where 1 means there is little truncation (high diversity) and 0 means the distribution is all truncated except for the mean (high quality/fidelity). This trick is not exclusive to StyleGAN. In fact, you may recall playing with it in an earlier GAN notebook."
   ]
  },
  {
   "cell_type": "code",
   "execution_count": 2,
   "metadata": {
    "colab": {},
    "colab_type": "code",
    "id": "dPpIAAOjykrQ"
   },
   "outputs": [],
   "source": [
    "# UNQ_C1 (UNIQUE CELL IDENTIFIER, DO NOT EDIT)\n",
    "# GRADED CELL: get_truncated_noise\n",
    "\n",
    "from scipy.stats import truncnorm\n",
    "def get_truncated_noise(n_samples, z_dim, truncation):\n",
    "    '''\n",
    "    Function for creating truncated noise vectors: Given the dimensions (n_samples, z_dim)\n",
    "    and truncation value, creates a tensor of that shape filled with random\n",
    "    numbers from the truncated normal distribution.\n",
    "    Parameters:\n",
    "        n_samples: the number of samples to generate, a scalar\n",
    "        z_dim: the dimension of the noise vector, a scalar\n",
    "        truncation: the truncation value, a non-negative scalar\n",
    "    '''\n",
    "    #### START CODE HERE ####\n",
    "    truncated_noise = truncnorm.rvs(-truncation, truncation, size=(n_samples, z_dim))\n",
    "    #### END CODE HERE ####\n",
    "    return torch.Tensor(truncated_noise)"
   ]
  },
  {
   "cell_type": "code",
   "execution_count": 3,
   "metadata": {
    "colab": {},
    "colab_type": "code",
    "id": "PpdtW2cxp-z7"
   },
   "outputs": [
    {
     "output_type": "stream",
     "name": "stdout",
     "text": [
      "Success!\n"
     ]
    }
   ],
   "source": [
    "# Test the truncation sample\n",
    "assert tuple(get_truncated_noise(n_samples=10, z_dim=5, truncation=0.7).shape) == (10, 5)\n",
    "simple_noise = get_truncated_noise(n_samples=1000, z_dim=10, truncation=0.2)\n",
    "assert simple_noise.max() > 0.199 and simple_noise.max() < 2\n",
    "assert simple_noise.min() < -0.199 and simple_noise.min() > -0.2\n",
    "assert simple_noise.std() > 0.113 and simple_noise.std() < 0.117\n",
    "print(\"Success!\")"
   ]
  },
  {
   "cell_type": "markdown",
   "metadata": {
    "colab_type": "text",
    "id": "uAtedvsisf1j"
   },
   "source": [
    "## Mapping $z$ → $w$\n",
    "\n",
    "The next component you need to implement is the mapping network. It takes the noise vector, $z$, and maps it to an intermediate noise vector, $w$. This makes it so $z$ can be represented in a more disentangled space which makes the features easier to control later.\n",
    "\n",
    "The mapping network in StyleGAN is composed of 8 layers, but for your implementation, you will use a neural network with 3 layers. This is to save time training later.\n",
    "\n",
    "<details>\n",
    "<summary>\n",
    "<font size=\"3\" color=\"green\">\n",
    "<b>Optional hints for <code><font size=\"4\">MappingLayers</font></code></b>\n",
    "</font>\n",
    "</summary>\n",
    "\n",
    "1.   This code should be five lines.\n",
    "2.   You need 3 linear layers and should use ReLU activations.\n",
    "3.   Your linear layers should be input -> hidden_dim -> hidden_dim -> output.\n",
    "</details>"
   ]
  },
  {
   "cell_type": "code",
   "execution_count": 4,
   "metadata": {
    "colab": {},
    "colab_type": "code",
    "id": "C2XBgopFrsne"
   },
   "outputs": [],
   "source": [
    "# UNQ_C2 (UNIQUE CELL IDENTIFIER, DO NOT EDIT)\n",
    "# GRADED CELL: MappingLayers\n",
    "\n",
    "class MappingLayers(nn.Module):\n",
    "    '''\n",
    "    Mapping Layers Class\n",
    "    Values:\n",
    "        z_dim: the dimension of the noise vector, a scalar\n",
    "        hidden_dim: the inner dimension, a scalar\n",
    "        w_dim: the dimension of the intermediate noise vector, a scalar\n",
    "    '''\n",
    " \n",
    "    def __init__(self, z_dim, hidden_dim, w_dim):\n",
    "        super().__init__()\n",
    "        self.mapping = nn.Sequential(\n",
    "            # Please write a neural network which takes in tensors of \n",
    "            # shape (n_samples, z_dim) and outputs (n_samples, w_dim)\n",
    "            # with a hidden layer with hidden_dim neurons\n",
    "            #### START CODE HERE ####\n",
    "            nn.Linear(z_dim, hidden_dim),\n",
    "            nn.ReLU(),\n",
    "            nn.Linear(hidden_dim, hidden_dim),\n",
    "            nn.ReLU(),\n",
    "            nn.Linear(hidden_dim, w_dim),\n",
    "            #### END CODE HERE ####\n",
    "        )\n",
    "\n",
    "    def forward(self, noise):\n",
    "        '''\n",
    "        Function for completing a forward pass of MappingLayers: \n",
    "        Given an initial noise tensor, returns the intermediate noise tensor.\n",
    "        Parameters:\n",
    "            noise: a noise tensor with dimensions (n_samples, z_dim)\n",
    "        '''\n",
    "        return self.mapping(noise)\n",
    "    \n",
    "    #UNIT TEST COMMENT: Required for grading\n",
    "    def get_mapping(self):\n",
    "        return self.mapping"
   ]
  },
  {
   "cell_type": "code",
   "execution_count": 5,
   "metadata": {
    "colab": {},
    "colab_type": "code",
    "id": "68W1aD-P0_vP"
   },
   "outputs": [
    {
     "output_type": "stream",
     "name": "stdout",
     "text": [
      "Success!\n"
     ]
    }
   ],
   "source": [
    "# Test the mapping function\n",
    "map_fn = MappingLayers(10,20,30)\n",
    "assert tuple(map_fn(torch.randn(2, 10)).shape) == (2, 30)\n",
    "assert len(map_fn.mapping) > 4\n",
    "outputs = map_fn(torch.randn(1000, 10))\n",
    "assert outputs.std() > 0.05 and outputs.std() < 0.3\n",
    "assert outputs.min() > -2 and outputs.min() < 0\n",
    "assert outputs.max() < 2 and outputs.max() > 0\n",
    "layers = [str(x) for x in map_fn.get_mapping()]\n",
    "assert layers == ['Linear(in_features=10, out_features=20, bias=True)', \n",
    "                  'ReLU()', \n",
    "                  'Linear(in_features=20, out_features=20, bias=True)', \n",
    "                  'ReLU()', \n",
    "                  'Linear(in_features=20, out_features=30, bias=True)']\n",
    "print(\"Success!\")"
   ]
  },
  {
   "cell_type": "markdown",
   "metadata": {
    "colab_type": "text",
    "id": "nfMvkudy1y9O"
   },
   "source": [
    "## Random Noise Injection\n",
    "Next, you will implement the random noise injection that occurs before every AdaIN block. To do this, you need to create a noise tensor that is the same size as the current feature map (image).\n",
    "\n",
    "The noise tensor is not entirely random; it is initialized as one random channel that is then multiplied by learned weights for each channel in the image. For example, imagine an image has 512 channels and its height and width are (4 x 4). You would first create a random (4 x 4) noise matrix with one channel. Then, your model would create 512 values—one for each channel. Next, you multiply the (4 x 4) matrix by each one of these values. This creates a \"random\" tensor of 512 channels and (4 x 4) pixels, the same dimensions as the image. Finally, you add this noise tensor to the image. This introduces uncorrelated noise and is meant to increase the diversity in the image.\n",
    "\n",
    "New starting weights are generated for every new layer, or generator, where this class is used. Within a layer, every following time the noise injection is called, you take another step with the optimizer and the weights that you use for each channel are optimized (i.e. learned).\n",
    "\n",
    "<details>\n",
    "\n",
    "<summary>\n",
    "<font size=\"3\" color=\"green\">\n",
    "<b>Optional hint for <code><font size=\"4\">InjectNoise</font></code></b>\n",
    "</font>\n",
    "</summary>\n",
    "\n",
    "1.   The weight should have the shape (1, channels, 1, 1).\n",
    "</details>\n",
    "\n",
    "<!-- <details>\n",
    "\n",
    "<summary>\n",
    "<font size=\"3\" color=\"green\">\n",
    "<b>Optional hint for <code><font size=\"4\">InjectNoise</font></code></b>\n",
    "</font>\n",
    "</summary>\n",
    "\n",
    "1.   Remember that you only make the noise for one channel (it is then multiplied by random values to create ones for the other channels).\n",
    "</details> -->\n",
    "\n",
    "<!-- (not sure how??) You'll find the get_noise function from before helpful here -->"
   ]
  },
  {
   "cell_type": "code",
   "execution_count": 6,
   "metadata": {
    "colab": {},
    "colab_type": "code",
    "id": "biLJxq3P11qY"
   },
   "outputs": [],
   "source": [
    "# UNQ_C3 (UNIQUE CELL IDENTIFIER, DO NOT EDIT)\n",
    "# GRADED CELL: InjectNoise\n",
    "\n",
    "class InjectNoise(nn.Module):\n",
    "    '''\n",
    "    Inject Noise Class\n",
    "    Values:\n",
    "        channels: the number of channels the image has, a scalar\n",
    "    '''\n",
    "    def __init__(self, channels):\n",
    "        super().__init__()\n",
    "        self.weight = nn.Parameter( # You use nn.Parameter so that these weights can be optimized\n",
    "            # Initiate the weights for the channels from a random normal distribution\n",
    "            #### START CODE HERE ####\n",
    "            torch.randn(1, channels, 1, 1)\n",
    "            #### END CODE HERE ####\n",
    "        )\n",
    "\n",
    "    def forward(self, image):\n",
    "        '''\n",
    "        Function for completing a forward pass of InjectNoise: Given an image, \n",
    "        returns the image with random noise added.\n",
    "        Parameters:\n",
    "            image: the feature map of shape (n_samples, channels, width, height)\n",
    "        '''\n",
    "        # Set the appropriate shape for the noise!\n",
    "\n",
    "        #### START CODE HERE ####\n",
    "        noise_shape = (image.shape[0], 1, image.shape[2], image.shape[3])\n",
    "        #### END CODE HERE ####\n",
    "        \n",
    "        noise = torch.randn(noise_shape, device=image.device) # Creates the random noise\n",
    "        return image + self.weight * noise # Applies to image after multiplying by the weight for each channel\n",
    "    \n",
    "    #UNIT TEST COMMENT: Required for grading\n",
    "    def get_weight(self):\n",
    "        return self.weight\n",
    "    \n",
    "    #UNIT TEST COMMENT: Required for grading\n",
    "    def get_self(self):\n",
    "        return self\n",
    "    "
   ]
  },
  {
   "cell_type": "code",
   "execution_count": 7,
   "metadata": {
    "colab": {},
    "colab_type": "code",
    "id": "zO1v6hos_Od0"
   },
   "outputs": [
    {
     "output_type": "stream",
     "name": "stdout",
     "text": [
      "Success!\n"
     ]
    }
   ],
   "source": [
    "# UNIT TEST\n",
    "test_noise_channels = 3000\n",
    "test_noise_samples = 20\n",
    "fake_images = torch.randn(test_noise_samples, test_noise_channels, 10, 10)\n",
    "inject_noise = InjectNoise(test_noise_channels)\n",
    "assert torch.abs(inject_noise.weight.std() - 1) < 0.1\n",
    "assert torch.abs(inject_noise.weight.mean()) < 0.1\n",
    "assert type(inject_noise.get_weight()) == torch.nn.parameter.Parameter\n",
    "\n",
    "assert tuple(inject_noise.weight.shape) == (1, test_noise_channels, 1, 1)\n",
    "inject_noise.weight = nn.Parameter(torch.ones_like(inject_noise.weight))\n",
    "# Check that something changed\n",
    "assert torch.abs((inject_noise(fake_images) - fake_images)).mean() > 0.1\n",
    "# Check that the change is per-channel\n",
    "assert torch.abs((inject_noise(fake_images) - fake_images).std(0)).mean() > 1e-4\n",
    "assert torch.abs((inject_noise(fake_images) - fake_images).std(1)).mean() < 1e-4\n",
    "assert torch.abs((inject_noise(fake_images) - fake_images).std(2)).mean() > 1e-4\n",
    "assert torch.abs((inject_noise(fake_images) - fake_images).std(3)).mean() > 1e-4\n",
    "# Check that the per-channel change is roughly normal\n",
    "per_channel_change = (inject_noise(fake_images) - fake_images).mean(1).std()\n",
    "assert per_channel_change > 0.9 and per_channel_change < 1.1\n",
    "# Make sure that the weights are being used at all\n",
    "inject_noise.weight = nn.Parameter(torch.zeros_like(inject_noise.weight))\n",
    "assert torch.abs((inject_noise(fake_images) - fake_images)).mean() < 1e-4\n",
    "assert len(inject_noise.weight.shape) == 4\n",
    "print(\"Success!\")"
   ]
  },
  {
   "cell_type": "markdown",
   "metadata": {
    "colab_type": "text",
    "id": "xTGkpHwrsqay"
   },
   "source": [
    "## Adaptive Instance Normalization (AdaIN)\n",
    "The next component you will implement is AdaIN. To increase control over the image, you inject $w$ — the intermediate noise vector — multiple times throughout StyleGAN. This is done by transforming it into a set of style parameters and introducing the style to the image through AdaIN. Given an image ($x_i$) and the intermediate vector ($w$), AdaIN takes the instance normalization of the image and multiplies it by the style scale ($y_s$) and adds the style bias ($y_b$). You need to calculate the learnable style scale and bias by using linear mappings from $w$.\n",
    "\n",
    "# $ \\text{AdaIN}(\\boldsymbol{\\mathrm{x}}_i, \\boldsymbol{\\mathrm{y}}) = \\boldsymbol{\\mathrm{y}}_{s,i} \\frac{\\boldsymbol{\\mathrm{x}}_i - \\mu(\\boldsymbol{\\mathrm{x}}_i)}{\\sigma(\\boldsymbol{\\mathrm{x}}_i)} + \\boldsymbol{\\mathrm{y}}_{b,i} $\n",
    "\n",
    "<details>\n",
    "\n",
    "<summary>\n",
    "<font size=\"3\" color=\"green\">\n",
    "<b>Optional hints for <code><font size=\"4\">forward</font></code></b>\n",
    "</font>\n",
    "</summary>\n",
    "\n",
    "1.   Remember the equation for AdaIN.\n",
    "2.   The instance normalized image, style scale, and style shift have already been calculated for you.\n",
    "</details>"
   ]
  },
  {
   "cell_type": "code",
   "execution_count": 8,
   "metadata": {
    "colab": {},
    "colab_type": "code",
    "id": "aDyqXHUvsp1G"
   },
   "outputs": [],
   "source": [
    "# UNQ_C4 (UNIQUE CELL IDENTIFIER, DO NOT EDIT)\n",
    "# GRADED CELL: AdaIN\n",
    "\n",
    "class AdaIN(nn.Module):\n",
    "    '''\n",
    "    AdaIN Class\n",
    "    Values:\n",
    "        channels: the number of channels the image has, a scalar\n",
    "        w_dim: the dimension of the intermediate noise vector, a scalar\n",
    "    '''\n",
    "\n",
    "    def __init__(self, channels, w_dim):\n",
    "        super().__init__()\n",
    "\n",
    "        # Normalize the input per-dimension\n",
    "        self.instance_norm = nn.InstanceNorm2d(channels)\n",
    "\n",
    "        # You want to map w to a set of style weights per channel.\n",
    "        # Replace the Nones with the correct dimensions - keep in mind that \n",
    "        # both linear maps transform a w vector into style weights \n",
    "        # corresponding to the number of image channels.\n",
    "        #### START CODE HERE ####\n",
    "        self.style_scale_transform = nn.Linear(w_dim, channels)\n",
    "        self.style_shift_transform = nn.Linear(w_dim, channels)\n",
    "        #### END CODE HERE ####\n",
    "\n",
    "    def forward(self, image, w):\n",
    "        '''\n",
    "        Function for completing a forward pass of AdaIN: Given an image and intermediate noise vector w, \n",
    "        returns the normalized image that has been scaled and shifted by the style.\n",
    "        Parameters:\n",
    "            image: the feature map of shape (n_samples, channels, width, height)\n",
    "            w: the intermediate noise vector\n",
    "        '''\n",
    "        normalized_image = self.instance_norm(image)\n",
    "        style_scale = self.style_scale_transform(w)[:, :, None, None]\n",
    "        style_shift = self.style_shift_transform(w)[:, :, None, None]\n",
    "        \n",
    "        # Calculate the transformed image\n",
    "        #### START CODE HERE ####\n",
    "        transformed_image = style_scale * normalized_image + style_shift\n",
    "        #### END CODE HERE ####\n",
    "        return transformed_image\n",
    "    \n",
    "    #UNIT TEST COMMENT: Required for grading\n",
    "    def get_style_scale_transform(self):\n",
    "        return self.style_scale_transform\n",
    "    \n",
    "    #UNIT TEST COMMENT: Required for grading\n",
    "    def get_style_shift_transform(self):\n",
    "        return self.style_shift_transform\n",
    "    \n",
    "    #UNIT TEST COMMENT: Required for grading\n",
    "    def get_self(self):\n",
    "        return self \n"
   ]
  },
  {
   "cell_type": "code",
   "execution_count": 9,
   "metadata": {
    "colab": {},
    "colab_type": "code",
    "id": "ljePdqZq4m3p"
   },
   "outputs": [
    {
     "output_type": "stream",
     "name": "stdout",
     "text": [
      "Success!\n"
     ]
    }
   ],
   "source": [
    "w_channels = 50\n",
    "image_channels = 20\n",
    "image_size = 30\n",
    "n_test = 10\n",
    "adain = AdaIN(image_channels, w_channels)\n",
    "test_w = torch.randn(n_test, w_channels)\n",
    "assert adain.style_scale_transform(test_w).shape == adain.style_shift_transform(test_w).shape\n",
    "assert adain.style_scale_transform(test_w).shape[-1] == image_channels\n",
    "assert tuple(adain(torch.randn(n_test, image_channels, image_size, image_size), test_w).shape) == (n_test, image_channels, image_size, image_size)\n",
    "\n",
    "w_channels = 3\n",
    "image_channels = 2\n",
    "image_size = 3\n",
    "n_test = 1\n",
    "adain = AdaIN(image_channels, w_channels)\n",
    "\n",
    "adain.style_scale_transform.weight.data = torch.ones_like(adain.style_scale_transform.weight.data) / 4\n",
    "adain.style_scale_transform.bias.data = torch.zeros_like(adain.style_scale_transform.bias.data)\n",
    "adain.style_shift_transform.weight.data = torch.ones_like(adain.style_shift_transform.weight.data) / 5\n",
    "adain.style_shift_transform.bias.data = torch.zeros_like(adain.style_shift_transform.bias.data)\n",
    "test_input = torch.ones(n_test, image_channels, image_size, image_size)\n",
    "test_input[:, :, 0] = 0\n",
    "test_w = torch.ones(n_test, w_channels)\n",
    "test_output = adain(test_input, test_w)\n",
    "assert(torch.abs(test_output[0, 0, 0, 0] - 3 / 5 + torch.sqrt(torch.tensor(9 / 8))) < 1e-4)\n",
    "assert(torch.abs(test_output[0, 0, 1, 0] - 3 / 5 - torch.sqrt(torch.tensor(9 / 32))) < 1e-4)\n",
    "print(\"Success!\")"
   ]
  },
  {
   "cell_type": "markdown",
   "metadata": {
    "colab_type": "text",
    "id": "_KnN184yI4AB"
   },
   "source": [
    "## Progressive Growing in StyleGAN\n",
    "The final StyleGAN component that you will create is progressive growing. This helps StyleGAN to create high resolution images by gradually doubling the image's size until the desired size.\n",
    "\n",
    "You will start by creating a block for the StyleGAN generator. This is comprised of an upsampling layer, a convolutional layer, random noise injection, an AdaIN layer, and an activation."
   ]
  },
  {
   "cell_type": "code",
   "execution_count": 10,
   "metadata": {
    "colab": {},
    "colab_type": "code",
    "id": "xnFh67WVrr2G"
   },
   "outputs": [],
   "source": [
    "# UNQ_C5 (UNIQUE CELL IDENTIFIER, DO NOT EDIT)\n",
    "# GRADED CELL: MicroStyleGANGeneratorBlock\n",
    "\n",
    "class MicroStyleGANGeneratorBlock(nn.Module):\n",
    "    '''\n",
    "    Micro StyleGAN Generator Block Class\n",
    "    Values:\n",
    "        in_chan: the number of channels in the input, a scalar\n",
    "        out_chan: the number of channels wanted in the output, a scalar\n",
    "        w_dim: the dimension of the intermediate noise vector, a scalar\n",
    "        kernel_size: the size of the convolving kernel\n",
    "        starting_size: the size of the starting image\n",
    "    '''\n",
    "\n",
    "    def __init__(self, in_chan, out_chan, w_dim, kernel_size, starting_size, use_upsample=True):\n",
    "        super().__init__()\n",
    "        self.use_upsample = use_upsample\n",
    "        # Replace the Nones in order to:\n",
    "        # 1. Upsample to the starting_size, bilinearly (https://pytorch.org/docs/master/generated/torch.nn.Upsample.html)\n",
    "        # 2. Create a kernel_size convolution which takes in \n",
    "        #    an image with in_chan and outputs one with out_chan (https://pytorch.org/docs/stable/generated/torch.nn.Conv2d.html)\n",
    "        # 3. Create an object to inject noise\n",
    "        # 4. Create an AdaIN object\n",
    "        # 5. Create a LeakyReLU activation with slope 0.2\n",
    "        \n",
    "        #### START CODE HERE ####\n",
    "        if self.use_upsample:\n",
    "            self.upsample = nn.Upsample((starting_size, starting_size), mode='bilinear')\n",
    "        self.conv = nn.Conv2d(in_chan, out_chan, kernel_size, padding=1) # Padding is used to maintain the image size\n",
    "        self.inject_noise = InjectNoise(out_chan)\n",
    "        self.adain = AdaIN(1, w_dim)\n",
    "        self.activation = nn.LeakyReLU(.2)\n",
    "        #### END CODE HERE ####\n",
    "\n",
    "    def forward(self, x, w):\n",
    "        '''\n",
    "        Function for completing a forward pass of MicroStyleGANGeneratorBlock: Given an x and w, \n",
    "        computes a StyleGAN generator block.\n",
    "        Parameters:\n",
    "            x: the input into the generator, feature map of shape (n_samples, channels, width, height)\n",
    "            w: the intermediate noise vector\n",
    "        '''\n",
    "        if self.use_upsample:\n",
    "            x = self.upsample(x)\n",
    "        x = self.conv(x)\n",
    "        x = self.inject_noise(x)\n",
    "        x = self.activation(x)\n",
    "        x = self.adain(x, w)\n",
    "        return x\n",
    "    \n",
    "    #UNIT TEST COMMENT: Required for grading\n",
    "    def get_self(self):\n",
    "        return self"
   ]
  },
  {
   "cell_type": "code",
   "execution_count": 11,
   "metadata": {
    "colab": {},
    "colab_type": "code",
    "id": "-cP1FDPz_C9K"
   },
   "outputs": [
    {
     "output_type": "stream",
     "name": "stdout",
     "text": [
      "Success!\n"
     ]
    }
   ],
   "source": [
    "test_stylegan_block = MicroStyleGANGeneratorBlock(in_chan=128, out_chan=64, w_dim=256, kernel_size=3, starting_size=8)\n",
    "test_x = torch.ones(1, 128, 4, 4)\n",
    "test_x[:, :, 1:3, 1:3] = 0\n",
    "test_w = torch.ones(1, 256)\n",
    "test_x = test_stylegan_block.upsample(test_x)\n",
    "assert tuple(test_x.shape) == (1, 128, 8, 8)\n",
    "assert torch.abs(test_x.mean() - 0.75) < 1e-4\n",
    "test_x = test_stylegan_block.conv(test_x)\n",
    "assert tuple(test_x.shape) == (1, 64, 8, 8)\n",
    "test_x = test_stylegan_block.inject_noise(test_x)\n",
    "test_x = test_stylegan_block.activation(test_x)\n",
    "assert test_x.min() < 0\n",
    "assert -test_x.min() / test_x.max() < 0.4\n",
    "test_x = test_stylegan_block.adain(test_x, test_w) \n",
    "foo = test_stylegan_block(torch.ones(10, 128, 4, 4), torch.ones(10, 256))\n",
    "\n",
    "print(\"Success!\")"
   ]
  },
  {
   "cell_type": "markdown",
   "metadata": {
    "colab_type": "text",
    "id": "FxgtRyMWrqTA"
   },
   "source": [
    "Now, you can implement progressive growing. \n",
    "\n",
    "StyleGAN starts with a constant 4 x 4 (x 512 channel) tensor which is put through an iteration of the generator without upsampling. The output is some noise that can then be transformed into a blurry 4 x 4 image. This is where the progressive growing process begins. The 4 x 4 noise can be further passed through a generator block with upsampling to produce an 8 x 8 output. However, this will be done gradually.\n",
    "\n",
    "You will simulate progressive growing from an 8 x 8 image to a 16 x 16 image. Instead of simply passing it to the generator block with upsampling, StyleGAN gradually trains the generator to the new size by mixing in an image that was only upsampled. By mixing an upsampled 8 x 8 image (which is 16 x 16) with increasingly more of the 16 x 16 generator output, the generator is more stable as it progressively trains. As such, you will do two separate operations with the 8 x 8 noise:\n",
    "\n",
    "1.   Pass it into the next generator block to create an output noise, that you will then transform to an image.\n",
    "2.   Transform it into an image and then upsample it to be 16 x 16.\n",
    "\n",
    "You will now have two images that are both double the resolution of the 8 x 8 noise. Then, using an alpha ($\\alpha$) term, you combine the higher resolution images obtained from (1) and (2). You would then pass this into the discriminator and use the feedback to update the weights of your generator. The key here is that the $\\alpha$ term is gradually increased until eventually, only the image from (1), the generator, is used. That is your final image or you could continue this process to make a 32 x 32 image or 64 x 64, 128 x 128, etc. \n",
    "\n",
    "This micro model you will implement will visualize what the model outputs at a particular stage of training, for a specific value of $\\alpha$. However to reiterate, in practice, StyleGAN will slowly phase out the upsampled image by increasing the $\\alpha$ parameter over many training steps, doing this process repeatedly with larger and larger alpha values until it is 1—at this point, the combined image is solely comprised of the image from the generator block. This method of gradually training the generator increases the stability and fidelity of the model.\n",
    "\n",
    "<!-- by passing a random noise vector in $z$ through the mapping function you wrote to get $w$. $w$ is then passed through the first block of the generator to create your first output noise. -->\n",
    "\n",
    "<details>\n",
    "\n",
    "<summary>\n",
    "<font size=\"3\" color=\"green\">\n",
    "<b>Optional hint for <code><font size=\"4\">forward</font></code></b>\n",
    "</font>\n",
    "</summary>\n",
    "\n",
    "1.    You may find [torch.lerp](https://pytorch.org/docs/stable/generated/torch.lerp.html) helpful.\n",
    "\n",
    "</details>"
   ]
  },
  {
   "cell_type": "code",
   "execution_count": 12,
   "metadata": {
    "colab": {},
    "colab_type": "code",
    "id": "M9RTS6nTI2kf"
   },
   "outputs": [],
   "source": [
    "# UNQ_C6 (UNIQUE CELL IDENTIFIER, DO NOT EDIT)\n",
    "# GRADED CELL: MicroStyleGANGenerator\n",
    "\n",
    "class MicroStyleGANGenerator(nn.Module):\n",
    "    '''\n",
    "    Micro StyleGAN Generator Class\n",
    "    Values:\n",
    "        z_dim: the dimension of the noise vector, a scalar\n",
    "        map_hidden_dim: the mapping inner dimension, a scalar\n",
    "        w_dim: the dimension of the intermediate noise vector, a scalar\n",
    "        in_chan: the dimension of the constant input, usually w_dim, a scalar\n",
    "        out_chan: the number of channels wanted in the output, a scalar\n",
    "        kernel_size: the size of the convolving kernel\n",
    "        hidden_chan: the inner dimension, a scalar\n",
    "    '''\n",
    "\n",
    "    def __init__(self, \n",
    "                 z_dim, \n",
    "                 map_hidden_dim,\n",
    "                 w_dim,\n",
    "                 in_chan,\n",
    "                 out_chan, \n",
    "                 kernel_size, \n",
    "                 hidden_chan):\n",
    "        super().__init__()\n",
    "        self.map = MappingLayers(z_dim, map_hidden_dim, w_dim)\n",
    "        # Typically this constant is initiated to all ones, but you will initiate to a\n",
    "        # Gaussian to better visualize the network's effect\n",
    "        self.starting_constant = nn.Parameter(torch.randn(1, in_chan, 4, 4))\n",
    "        self.block0 = MicroStyleGANGeneratorBlock(in_chan, hidden_chan, w_dim, kernel_size, 4, use_upsample=False)\n",
    "        self.block1 = MicroStyleGANGeneratorBlock(hidden_chan, hidden_chan, w_dim, kernel_size, 8)\n",
    "        self.block2 = MicroStyleGANGeneratorBlock(hidden_chan, hidden_chan, w_dim, kernel_size, 16)\n",
    "        # You need to have a way of mapping from the output noise to an image, \n",
    "        # so you learn a 1x1 convolution to transform the e.g. 512 channels into 3 channels\n",
    "        # (Note that this is simplified, with clipping used in the real StyleGAN)\n",
    "        self.block1_to_image = nn.Conv2d(hidden_chan, out_chan, kernel_size=1)\n",
    "        self.block2_to_image = nn.Conv2d(hidden_chan, out_chan, kernel_size=1)\n",
    "        self.alpha = 0.2\n",
    "\n",
    "    def upsample_to_match_size(self, smaller_image, bigger_image):\n",
    "        '''\n",
    "        Function for upsampling an image to the size of another: Given a two images (smaller and bigger), \n",
    "        upsamples the first to have the same dimensions as the second.\n",
    "        Parameters:\n",
    "            smaller_image: the smaller image to upsample\n",
    "            bigger_image: the bigger image whose dimensions will be upsampled to\n",
    "        '''\n",
    "        return F.interpolate(smaller_image, size=bigger_image.shape[-2:], mode='bilinear')\n",
    "\n",
    "    def forward(self, noise, return_intermediate=False):\n",
    "        '''\n",
    "        Function for completing a forward pass of MicroStyleGANGenerator: Given noise, \n",
    "        computes a StyleGAN iteration.\n",
    "        Parameters:\n",
    "            noise: a noise tensor with dimensions (n_samples, z_dim)\n",
    "            return_intermediate: a boolean, true to return the images as well (for testing) and false otherwise\n",
    "        '''\n",
    "        x = self.starting_constant\n",
    "        w = self.map(noise)\n",
    "        x = self.block0(x, w)\n",
    "        x_small = self.block1(x, w) # First generator run output\n",
    "        x_small_image = self.block1_to_image(x_small)\n",
    "        x_big = self.block2(x_small, w) # Second generator run output \n",
    "        x_big_image = self.block2_to_image(x_big)\n",
    "        x_small_upsample = self.upsample_to_match_size(x_small_image, x_big_image) # Upsample first generator run output to be same size as second generator run output \n",
    "        # Interpolate between the upsampled image and the image from the generator using alpha\n",
    "        \n",
    "        #### START CODE HERE ####\n",
    "        interpolation = self.alpha * x_big_image + (1 - self.alpha) * x_small_upsample\n",
    "        #### END CODE HERE #### \n",
    "        \n",
    "        if return_intermediate:\n",
    "            return interpolation, x_small_upsample, x_big_image\n",
    "        return interpolation\n",
    "    \n",
    "    #UNIT TEST COMMENT: Required for grading\n",
    "    def get_self(self):\n",
    "        return self;"
   ]
  },
  {
   "cell_type": "code",
   "execution_count": 13,
   "metadata": {
    "colab": {},
    "colab_type": "code",
    "id": "bWHCOPJWkYm2"
   },
   "outputs": [
    {
     "output_type": "stream",
     "name": "stdout",
     "text": [
      "Success!\n"
     ]
    }
   ],
   "source": [
    "z_dim = 128\n",
    "out_chan = 3\n",
    "truncation = 0.7\n",
    "\n",
    "mu_stylegan = MicroStyleGANGenerator(\n",
    "    z_dim=z_dim, \n",
    "    map_hidden_dim=1024,\n",
    "    w_dim=496,\n",
    "    in_chan=512,\n",
    "    out_chan=out_chan, \n",
    "    kernel_size=3, \n",
    "    hidden_chan=256\n",
    ")\n",
    "\n",
    "test_samples = 10\n",
    "test_result = mu_stylegan(get_truncated_noise(test_samples, z_dim, truncation))\n",
    "\n",
    "# Check if the block works\n",
    "assert tuple(test_result.shape) == (test_samples, out_chan, 16, 16)\n",
    "\n",
    "# Check that the interpolation is correct\n",
    "mu_stylegan.alpha = 1.\n",
    "test_result, _, test_big =  mu_stylegan(\n",
    "    get_truncated_noise(test_samples, z_dim, truncation), \n",
    "    return_intermediate=True)\n",
    "assert torch.abs(test_result - test_big).mean() < 0.001\n",
    "mu_stylegan.alpha = 0.\n",
    "test_result, test_small, _ =  mu_stylegan(\n",
    "    get_truncated_noise(test_samples, z_dim, truncation), \n",
    "    return_intermediate=True)\n",
    "assert torch.abs(test_result - test_small).mean() < 0.001\n",
    "print(\"Success!\")"
   ]
  },
  {
   "cell_type": "markdown",
   "metadata": {
    "colab_type": "text",
    "id": "nXXdZdOAkavj"
   },
   "source": [
    "## Running StyleGAN\n",
    "Finally, you can put all the components together to run an iteration of your micro StyleGAN!\n",
    "\n",
    "You can also visualize what this randomly initiated generator can produce. The code will automatically interpolate between different values of alpha so that you can intuitively see what it means to mix the low-resolution and high-resolution images using different values of alpha. In the generated image, the samples start from low alpha values and go to high alpha values."
   ]
  },
  {
   "cell_type": "code",
   "execution_count": 14,
   "metadata": {
    "colab": {},
    "colab_type": "code",
    "id": "xmfdB47xNWvf"
   },
   "outputs": [
    {
     "output_type": "display_data",
     "data": {
      "text/plain": "<Figure size 1080x1080 with 1 Axes>",
      "image/svg+xml": "<?xml version=\"1.0\" encoding=\"utf-8\" standalone=\"no\"?>\r\n<!DOCTYPE svg PUBLIC \"-//W3C//DTD SVG 1.1//EN\"\r\n  \"http://www.w3.org/Graphics/SVG/1.1/DTD/svg11.dtd\">\r\n<!-- Created with matplotlib (https://matplotlib.org/) -->\r\n<svg height=\"432.9pt\" version=\"1.1\" viewBox=\"0 0 851.4 432.9\" width=\"851.4pt\" xmlns=\"http://www.w3.org/2000/svg\" xmlns:xlink=\"http://www.w3.org/1999/xlink\">\r\n <metadata>\r\n  <rdf:RDF xmlns:cc=\"http://creativecommons.org/ns#\" xmlns:dc=\"http://purl.org/dc/elements/1.1/\" xmlns:rdf=\"http://www.w3.org/1999/02/22-rdf-syntax-ns#\">\r\n   <cc:Work>\r\n    <dc:type rdf:resource=\"http://purl.org/dc/dcmitype/StillImage\"/>\r\n    <dc:date>2021-02-18T22:10:35.699893</dc:date>\r\n    <dc:format>image/svg+xml</dc:format>\r\n    <dc:creator>\r\n     <cc:Agent>\r\n      <dc:title>Matplotlib v3.3.4, https://matplotlib.org/</dc:title>\r\n     </cc:Agent>\r\n    </dc:creator>\r\n   </cc:Work>\r\n  </rdf:RDF>\r\n </metadata>\r\n <defs>\r\n  <style type=\"text/css\">*{stroke-linecap:butt;stroke-linejoin:round;}</style>\r\n </defs>\r\n <g id=\"figure_1\">\r\n  <g id=\"patch_1\">\r\n   <path d=\"M 0 432.9 \r\nL 851.4 432.9 \r\nL 851.4 -0 \r\nL 0 -0 \r\nz\r\n\" style=\"fill:none;\"/>\r\n  </g>\r\n  <g id=\"axes_1\">\r\n   <g clip-path=\"url(#p2ce06c6a43)\">\r\n    <image height=\"419\" id=\"image479cc58eae\" transform=\"scale(1 -1)translate(0 -419)\" width=\"837\" x=\"7.2\" xlink:href=\"data:image/png;base64,\r\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\" y=\"-6.7\"/>\r\n   </g>\r\n  </g>\r\n </g>\r\n <defs>\r\n  <clipPath id=\"p2ce06c6a43\">\r\n   <rect height=\"418.5\" width=\"837\" x=\"7.2\" y=\"7.2\"/>\r\n  </clipPath>\r\n </defs>\r\n</svg>\r\n",
      "image/png": "[encoded data removed]"
     },
     "metadata": {
      "needs_background": "light"
     }
    }
   ],
   "source": [
    "import numpy as np\n",
    "from torchvision.utils import make_grid\n",
    "import matplotlib.pyplot as plt\n",
    "plt.rcParams['figure.figsize'] = [15, 15]\n",
    "\n",
    "viz_samples = 10\n",
    "# The noise is exaggerated for visual effect\n",
    "viz_noise = get_truncated_noise(viz_samples, z_dim, truncation) * 10\n",
    "\n",
    "mu_stylegan.eval()\n",
    "images = []\n",
    "for alpha in np.linspace(0, 1, num=5):\n",
    "    mu_stylegan.alpha = alpha\n",
    "    viz_result, _, _ =  mu_stylegan(\n",
    "        viz_noise, \n",
    "        return_intermediate=True)\n",
    "    images += [tensor for tensor in viz_result]\n",
    "show_tensor_images(torch.stack(images), nrow=viz_samples, num_images=len(images))\n",
    "mu_stylegan = mu_stylegan.train()"
   ]
  },
  {
   "cell_type": "code",
   "execution_count": null,
   "metadata": {},
   "outputs": [],
   "source": []
  }
 ],
 "metadata": {
  "colab": {
   "collapsed_sections": [],
   "name": "C2W3: Components of StyleGAN (Student).ipynb",
   "provenance": []
  },
  "coursera": {
   "schema_names": [
    "GANSC2-3A"
   ]
  },
  "kernelspec": {
   "display_name": "Python 3",
   "language": "python",
   "name": "python3"
  },
  "language_info": {
   "codemirror_mode": {
    "name": "ipython",
    "version": 3
   },
   "file_extension": ".py",
   "mimetype": "text/x-python",
   "name": "python",
   "nbconvert_exporter": "python",
   "pygments_lexer": "ipython3",
   "version": "3.7.9-final"
  }
 },
 "nbformat": 4,
 "nbformat_minor": 1
}